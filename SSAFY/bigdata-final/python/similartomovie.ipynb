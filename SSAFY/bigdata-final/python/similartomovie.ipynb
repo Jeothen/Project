{
 "cells": [
  {
   "cell_type": "code",
   "execution_count": 62,
   "metadata": {},
   "outputs": [],
   "source": [
    "import numpy as np\n",
    "import pandas as pd\n",
    "import seaborn as sns\n",
    "import matplotlib.pyplot as plt\n",
    "from sklearn import preprocessing\n",
    "from sklearn.cluster import KMeans\n",
    "from sklearn.metrics import silhouette_score"
   ]
  },
  {
   "cell_type": "code",
   "execution_count": 63,
   "metadata": {},
   "outputs": [],
   "source": [
    "csv_test = pd.read_csv('answer.csv')"
   ]
  },
  {
   "cell_type": "code",
   "execution_count": 64,
   "metadata": {},
   "outputs": [
    {
     "data": {
      "text/plain": [
       "(3883, 19)"
      ]
     },
     "execution_count": 64,
     "metadata": {},
     "output_type": "execute_result"
    }
   ],
   "source": [
    "csv_test.shape"
   ]
  },
  {
   "cell_type": "code",
   "execution_count": 65,
   "metadata": {},
   "outputs": [
    {
     "data": {
      "text/html": [
       "<div>\n",
       "<style scoped>\n",
       "    .dataframe tbody tr th:only-of-type {\n",
       "        vertical-align: middle;\n",
       "    }\n",
       "\n",
       "    .dataframe tbody tr th {\n",
       "        vertical-align: top;\n",
       "    }\n",
       "\n",
       "    .dataframe thead th {\n",
       "        text-align: right;\n",
       "    }\n",
       "</style>\n",
       "<table border=\"1\" class=\"dataframe\">\n",
       "  <thead>\n",
       "    <tr style=\"text-align: right;\">\n",
       "      <th></th>\n",
       "      <th>Action</th>\n",
       "      <th>Adventure</th>\n",
       "      <th>Animation</th>\n",
       "      <th>Children's</th>\n",
       "      <th>Comedy</th>\n",
       "      <th>Crime</th>\n",
       "      <th>Documentary</th>\n",
       "      <th>Drama</th>\n",
       "      <th>Fantasy</th>\n",
       "      <th>Film-Noir</th>\n",
       "      <th>Horror</th>\n",
       "      <th>Musical</th>\n",
       "      <th>Mystery</th>\n",
       "      <th>Romance</th>\n",
       "      <th>Sci-Fi</th>\n",
       "      <th>Thriller</th>\n",
       "      <th>War</th>\n",
       "      <th>Western</th>\n",
       "      <th>title</th>\n",
       "    </tr>\n",
       "  </thead>\n",
       "  <tbody>\n",
       "    <tr>\n",
       "      <td>0</td>\n",
       "      <td>0</td>\n",
       "      <td>0</td>\n",
       "      <td>1</td>\n",
       "      <td>1</td>\n",
       "      <td>1</td>\n",
       "      <td>0</td>\n",
       "      <td>0</td>\n",
       "      <td>0</td>\n",
       "      <td>0</td>\n",
       "      <td>0</td>\n",
       "      <td>0</td>\n",
       "      <td>0</td>\n",
       "      <td>0</td>\n",
       "      <td>0</td>\n",
       "      <td>0</td>\n",
       "      <td>0</td>\n",
       "      <td>0</td>\n",
       "      <td>0</td>\n",
       "      <td>Toy Story (1995)</td>\n",
       "    </tr>\n",
       "    <tr>\n",
       "      <td>1</td>\n",
       "      <td>0</td>\n",
       "      <td>1</td>\n",
       "      <td>0</td>\n",
       "      <td>1</td>\n",
       "      <td>0</td>\n",
       "      <td>0</td>\n",
       "      <td>0</td>\n",
       "      <td>0</td>\n",
       "      <td>1</td>\n",
       "      <td>0</td>\n",
       "      <td>0</td>\n",
       "      <td>0</td>\n",
       "      <td>0</td>\n",
       "      <td>0</td>\n",
       "      <td>0</td>\n",
       "      <td>0</td>\n",
       "      <td>0</td>\n",
       "      <td>0</td>\n",
       "      <td>Jumanji (1995)</td>\n",
       "    </tr>\n",
       "    <tr>\n",
       "      <td>2</td>\n",
       "      <td>0</td>\n",
       "      <td>0</td>\n",
       "      <td>0</td>\n",
       "      <td>0</td>\n",
       "      <td>1</td>\n",
       "      <td>0</td>\n",
       "      <td>0</td>\n",
       "      <td>0</td>\n",
       "      <td>0</td>\n",
       "      <td>0</td>\n",
       "      <td>0</td>\n",
       "      <td>0</td>\n",
       "      <td>0</td>\n",
       "      <td>1</td>\n",
       "      <td>0</td>\n",
       "      <td>0</td>\n",
       "      <td>0</td>\n",
       "      <td>0</td>\n",
       "      <td>Grumpier Old Men (1995)</td>\n",
       "    </tr>\n",
       "  </tbody>\n",
       "</table>\n",
       "</div>"
      ],
      "text/plain": [
       "   Action  Adventure  Animation  Children's  Comedy  Crime  Documentary  \\\n",
       "0       0          0          1           1       1      0            0   \n",
       "1       0          1          0           1       0      0            0   \n",
       "2       0          0          0           0       1      0            0   \n",
       "\n",
       "   Drama  Fantasy  Film-Noir  Horror  Musical  Mystery  Romance  Sci-Fi  \\\n",
       "0      0        0          0       0        0        0        0       0   \n",
       "1      0        1          0       0        0        0        0       0   \n",
       "2      0        0          0       0        0        0        1       0   \n",
       "\n",
       "   Thriller  War  Western                    title  \n",
       "0         0    0        0         Toy Story (1995)  \n",
       "1         0    0        0           Jumanji (1995)  \n",
       "2         0    0        0  Grumpier Old Men (1995)  "
      ]
     },
     "execution_count": 65,
     "metadata": {},
     "output_type": "execute_result"
    }
   ],
   "source": [
    "csv_test.head(3)"
   ]
  },
  {
   "cell_type": "code",
   "execution_count": 66,
   "metadata": {},
   "outputs": [],
   "source": [
    "# x와 y컬럼을 지정\n",
    "x_columns = [\"Action\",\"Adventure\",\"Animation\",\"Children's\",\"Comedy\",\"Crime\",\"Documentary\",\"Drama\",\"Fantasy\",\"Film-Noir\",\"Horror\",\"Musical\",\"Mystery\",\"Romance\",\"Sci-Fi\",\"Thriller\",\"War\",\"Western\"]\n",
    "y_column = 'title'"
   ]
  },
  {
   "cell_type": "code",
   "execution_count": 67,
   "metadata": {},
   "outputs": [
    {
     "name": "stdout",
     "output_type": "stream",
     "text": [
      "['Toy Story (1995)', 'Jumanji (1995)', 'Grumpier Old Men (1995)', 'Waiting to Exhale (1995)', 'Father of the Bride Part II (1995)'] -> [3574, 1858, 1483, 3716, 1177]\n"
     ]
    }
   ],
   "source": [
    "#y컬럼의 문자열값을 labelEncoder를 통해 숫자로 바꾼다\n",
    "y_true_label_encoder = preprocessing.LabelEncoder()\n",
    "y_true_encoded       = y_true_label_encoder.fit_transform(csv_test[y_column])\n",
    "print(list(csv_test[y_column][:5]),'->',list(y_true_encoded[:5])) #샘플출력"
   ]
  },
  {
   "cell_type": "code",
   "execution_count": 152,
   "metadata": {},
   "outputs": [
    {
     "name": "stdout",
     "output_type": "stream",
     "text": [
      "{0: ['Toy Story (1995)', 'Grumpier Old Men (1995)', 'Waiting to Exhale (1995)', 'Father of the Bride Part II (1995)', 'Sabrina (1995)', 'American President, The (1995)', 'Dracula: Dead and Loving It (1995)', 'Ace Ventura: When Nature Calls (1995)', 'Get Shorty (1995)', 'Babe (1995)', 'It Takes Two (1995)', 'Clueless (1995)', 'To Die For (1995)', 'Mighty Aphrodite (1995)', 'Big Green, The (1995)', \"Don't Be a Menace to South Central While Drinking Your Juice in the Hood (1996)\", 'Two if by Sea (1996)', 'Bio-Dome (1996)', 'French Twist (Gazon maudit) (1995)', 'Friday (1995)', 'Kicking and Screaming (1995)', 'Big Bully (1996)', 'Last Summer in the Hamptons (1995)', 'Dunston Checks In (1996)', 'Black Sheep (1996)', 'Vampire in Brooklyn (1995)', 'In the Bleak Midwinter (1995)', 'Bottle Rocket (1996)'], 1: ['Jumanji (1995)', 'Heat (1995)', 'Tom and Huck (1995)', 'Sudden Death (1995)', 'GoldenEye (1995)', 'Balto (1995)', 'Cutthroat Island (1995)', 'Four Rooms (1995)', 'Money Train (1995)', 'Assassins (1995)', 'Persuasion (1995)', 'City of Lost Children, The (1995)', 'Wings of Courage (1995)', 'Across the Sea of Time (1995)', 'Mortal Kombat (1995)', 'Seven (Se7en) (1995)', 'Pocahontas (1995)', 'Usual Suspects, The (1995)', 'Kids of the Round Table (1995)', 'Indian in the Cupboard, The (1995)', 'Lawnmower Man 2: Beyond Cyberspace (1996)', 'From Dusk Till Dawn (1996)', 'Fair Game (1995)', 'Screamers (1995)', 'Nico Icon (1995)', 'Nick of Time (1995)', 'Broken Arrow (1996)', 'Shopping (1994)', 'Heidi Fleiss: Hollywood Madam (1995)'], 2: ['Nixon (1995)', 'Casino (1995)', 'Sense and Sensibility (1995)', 'Copycat (1995)', 'Powder (1995)', 'Leaving Las Vegas (1995)', 'Othello (1995)', 'Now and Then (1995)', 'Shanghai Triad (Yao a yao yao dao waipo qiao) (1995)', 'Dangerous Minds (1995)', 'Twelve Monkeys (1995)', 'Carrington (1995)', 'Dead Man Walking (1995)', 'Cry, the Beloved Country (1995)', 'Richard III (1995)', 'Dead Presidents (1995)', 'Restoration (1995)', 'How to Make an American Quilt (1995)', 'When Night Is Falling (1995)', 'Guardian Angel (1994)', 'Lamerica (1994)', 'Georgia (1995)', 'Home for the Holidays (1995)', 'Postino, Il (The Postman) (1994)', 'Confessional, The (Le Confessionnal) (1995)', 'Eye for an Eye (1996)', \"Mr. Holland's Opus (1995)\", 'Two Bits (1995)', 'Misï¿½rables, Les (1995)', 'Bed of Roses (1996)', 'Crossing Guard, The (1995)', 'Juror, The (1996)', 'White Balloon, The (Badkonake Sefid ) (1995)', \"Things to Do in Denver when You're Dead (1995)\", \"Antonia's Line (Antonia) (1995)\", 'Once Upon a Time... When We Were Colored (1995)', 'Angels and Insects (1995)', 'White Squall (1996)', 'Journey of August King, The (1995)', 'Mary Reilly (1996)', 'Beautiful Girls (1996)', 'Hate (Haine, La) (1995)', 'City Hall (1996)']}\n"
     ]
    }
   ],
   "source": [
    "kMeansModels              = dict() # k값별 모델 저장할 딕셔너리\n",
    "kMeansModelPreds          = dict() # k값별 모델 예측 결과 저장할 딕셔너리\n",
    "kMeansModelLabelEncoder   = dict() # k값별 라벨인코더 저장할 딕셔너리\n",
    "\n",
    "sumSquaredDistancesList   = list() # 샘플과 클러스터 센터간 거리 제곱의 합 리스트\n",
    "silhouetteScoreList       = list() # Silhouette Coefficient 평균 리스트\n",
    "\n",
    "ks = [3] # k값으로 2부터 9까지 테스트한다\n",
    "for k in ks: # k값 순회\n",
    "    model = KMeans(n_clusters=k, random_state=0, n_init=100).fit(csv_test[x_columns]) # k개 클러스터로 모델 생성\n",
    "    model.cluster_centers_\n",
    "    model.labels_\n",
    "#     print(model.labels_[0:100])\n",
    "#     print(csv_test[y_column][0:100])\n",
    "result={}\n",
    "for (idx,title) in enumerate(csv_test[y_column][0:100]):\n",
    "    if result.get(model.labels_[idx]) :\n",
    "        result[model.labels_[idx]].append(title)\n",
    "    else:\n",
    "        result[model.labels_[idx]]=[title]\n",
    "print(result)\n",
    "#     cluster_labels = model.fit_predict(csv_test[x_columns]) # X컬럼으로 지정된 필드값으로 피팅\n",
    "    \n",
    "#     y_pred_label_encoder = preprocessing.LabelEncoder() # 예측한 클러스터에서 사용할 라벨인코더\n",
    "#     # 초기 임의 값 (unknown 1, unknown 2...) 으로 인코딩한다\n",
    "#     y_pred_label_encoder.fit(np.array(['unknown ' + str(i+1) for i in range(0, k, 1)], dtype=object))\n",
    "#     for pred_label_num in range(0,k,1): # 각 클러스터 순회   \n",
    "#         # 해당 클러스터에서 가장 많이 출력한 실제 값의 인덱스를 구한다\n",
    "#         most_frequent_index = np.argmax(np.bincount(y_true_encoded[cluster_labels==pred_label_num]))\n",
    "#         # 구한 인덱스의 라벨을 구해서 해당클러스터 라벨로 업데이트한다\n",
    "#         y_pred_label_encoder.classes_[pred_label_num] = y_true_label_encoder.classes_[most_frequent_index]\n",
    "    \n",
    "#     kMeansModels[k]     = model                       # 모델 저장\n",
    "#     kMeansModelPreds[k] = cluster_labels              # 모델 예측결과 저장     \n",
    "#     kMeansModelLabelEncoder[k] = y_pred_label_encoder # 라벨인코더 저장\n",
    "#     sumSquaredDistancesList.append(model.inertia_)    # 샘플과 클러스터 센터간 거리 제곱의 합 저장\n",
    "#     silhouetteScoreList.append(silhouette_score(csv_test[x_columns].values, cluster_labels)) # Silhouette Score저장\n",
    "#     print(sumSquaredDistancesList)"
   ]
  },
  {
   "cell_type": "code",
   "execution_count": 77,
   "metadata": {},
   "outputs": [
    {
     "name": "stdout",
     "output_type": "stream",
     "text": [
      "LabelEncoder()\n"
     ]
    }
   ],
   "source": [
    "# print(kMeansModels)"
   ]
  },
  {
   "cell_type": "code",
   "execution_count": 29,
   "metadata": {},
   "outputs": [
    {
     "data": {
      "image/png": "[encoded data removed]",
      "text/plain": [
       "<Figure size 432x288 with 1 Axes>"
      ]
     },
     "metadata": {
      "needs_background": "light"
     },
     "output_type": "display_data"
    }
   ],
   "source": [
    "plt.plot(ks, sumSquaredDistancesList)\n",
    "plt.xlabel(\"Number of cluster\")\n",
    "plt.ylabel(\"Sum of squared distances\")\n",
    "plt.show()"
   ]
  },
  {
   "cell_type": "code",
   "execution_count": 30,
   "metadata": {},
   "outputs": [
    {
     "data": {
      "image/png": "[encoded data removed]",
      "text/plain": [
       "<Figure size 432x288 with 1 Axes>"
      ]
     },
     "metadata": {
      "needs_background": "light"
     },
     "output_type": "display_data"
    }
   ],
   "source": [
    "plt.plot(ks, silhouetteScoreList)\n",
    "plt.xlabel(\"Number of cluster\")\n",
    "plt.ylabel(\"Sum of squared distances\")\n",
    "plt.show()"
   ]
  },
  {
   "cell_type": "code",
   "execution_count": 119,
   "metadata": {},
   "outputs": [],
   "source": [
    "def render_plot(x_col='Action', y_col='Adventure', k=3):\n",
    "    y_pred        = kMeansModelPreds[k]        # 모델 예측값\n",
    "    label_encoder = kMeansModelLabelEncoder[k] # 라벨인코더\n",
    "    \n",
    "    # 원본과 예측값을 합쳐 데이터셋을 준비\n",
    "    mdf = pd.concat([csv_test, pd.DataFrame(label_encoder.inverse_transform(y_pred), columns=[y_column+'_pred'])], axis=1)\n",
    "    \n",
    "    plt.figure(figsize=(15,8)) # 출력 크기를 지정\n",
    "    \n",
    "    ddf = mdf[mdf[y_column] != mdf[y_column+'_pred']] # 실제라벨과 예측라벨이 틀린 경우 추출\n",
    "    # X기호로 error임을 표시한다\n",
    "    plt.scatter(x=ddf[x_col], y=ddf[y_col], c='black', marker='x', s=300, label='error') \n",
    "    print(plt.scatter)\n",
    "    colors = ['blue', 'red', 'green', 'cyan', 'magenta', 'yellow', 'black'] # 컬러값 리스트\n",
    "    for (idx,cls) in enumerate(list(y_true_label_encoder.classes_)):\n",
    "        print(idx,cls)\n",
    "        ddf = mdf[mdf[y_column] == cls] # 실제라벨 데이터는 작은 점으로 출력\n",
    "#         print(ddf[x_col])\n",
    "#         plt.scatter(x=ddf[x_col], y=ddf[y_col], c=colors[idx], marker='.', linewidths=20, s=50, label=cls)\n",
    "#         ddf = mdf[mdf[y_column+'_pred'] == cls] # 예측라벨 데이터는 큰 원으로 출력\n",
    "#         print(mdf)\n",
    "#         plt.scatter(x=ddf[x_col], y=ddf[y_col], c=colors[idx], marker='o', linewidths=20, s=2, label=cls+' pred')\n",
    "    \n",
    "#     plt.legend();plt.xlabel(x_col);plt.ylabel(y_col)\n",
    "#     print('accuracy {:.2f}'.format(np.mean(mdf[y_column] == mdf[y_column+'_pred']))) # 정확도 출력\n",
    "#     plt.show()"
   ]
  },
  {
   "cell_type": "code",
   "execution_count": 120,
   "metadata": {},
   "outputs": [],
   "source": [
    "from ipywidgets import interact"
   ]
  },
  {
   "cell_type": "code",
   "execution_count": 121,
   "metadata": {},
   "outputs": [
    {
     "data": {
      "application/vnd.jupyter.widget-view+json": {
       "model_id": "b34721c92efc4761bc1b9e4bb020d164",
       "version_major": 2,
       "version_minor": 0
      },
      "text/plain": [
       "interactive(children=(Dropdown(description='x_col', options=('Action', 'Adventure', 'Animation', \"Children's\",…"
      ]
     },
     "metadata": {},
     "output_type": "display_data"
    },
    {
     "data": {
      "text/plain": [
       "<function __main__.render_plot(x_col='Action', y_col='Adventure', k=3)>"
      ]
     },
     "execution_count": 121,
     "metadata": {},
     "output_type": "execute_result"
    }
   ],
   "source": [
    "interact(render_plot, x_col=x_columns, y_col=x_columns, k=ks)"
   ]
  },
  {
   "cell_type": "code",
   "execution_count": null,
   "metadata": {},
   "outputs": [],
   "source": [
    "https://mubaris.com/posts/kmeans-clustering/"
   ]
  }
 ],
 "metadata": {
  "kernelspec": {
   "display_name": "Python 3",
   "language": "python",
   "name": "python3"
  },
  "language_info": {
   "codemirror_mode": {
    "name": "ipython",
    "version": 3
   },
   "file_extension": ".py",
   "mimetype": "text/x-python",
   "name": "python",
   "nbconvert_exporter": "python",
   "pygments_lexer": "ipython3",
   "version": "3.7.4"
  }
 },
 "nbformat": 4,
 "nbformat_minor": 2
}
